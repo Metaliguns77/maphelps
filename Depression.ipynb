{
  "nbformat": 4,
  "nbformat_minor": 0,
  "metadata": {
    "colab": {
      "provenance": []
    },
    "kernelspec": {
      "name": "python3",
      "display_name": "Python 3"
    },
    "language_info": {
      "name": "python"
    }
  },
  "cells": [
    {
      "cell_type": "code",
      "source": [],
      "metadata": {
        "id": "lm4-zwY8t74b"
      },
      "execution_count": null,
      "outputs": []
    },
    {
      "cell_type": "markdown",
      "source": [
        "[![Open In Colab](https://colab.research.google.com/assets/colab-badge.svg)](https://colab.research.google.com/drive/1jJ0pB2AqiQ_RRN0CaCFFJE2EMmpoGwdk#scrollTo=n4oeHc6_uGgx)"
      ],
      "metadata": {
        "id": "n4oeHc6_uGgx"
      }
    },
    {
      "cell_type": "code",
      "source": [
        "#import duckdb\n",
        "\n",
        "# Connect to DuckDB\n",
        "# con = duckdb.connect()\n",
        "# con.install_extension(\"spatial\")\n",
        "# con.load_extension(\"spatial\")\n",
        "\n",
        "# #Assuming your datasets are loaded and have a 'state' column and a 'geometry' column\n",
        "# #Replace 'your_nfp_dep_table' and 'your_all_dep_table' with the actual table names or Parquet file paths\n",
        "\n",
        "# query = \"\"\"\n",
        "# SELECT nfp.state, COUNT(*) AS intersection_count\n",
        "# FROM 's3://us-west-2.opendata.source.coop/giswqs/depressions/nfp_dep/*.parquet' nfp\n",
        "# JOIN 's3://us-west-2.opendata.source.coop/giswqs/depressions/all_dep/*.parquet' all_dep\n",
        "# ON ST_Intersects(nfp.geometry, all_dep.geometry)\n",
        "# GROUP BY nfp.state\n",
        "# ORDER BY intersection_count DESC;\n",
        "# \"\"\"\n",
        "\n",
        "# # Execute the query\n",
        "# result = con.execute(query).fetchall()\n",
        "\n",
        "# # Close the connection\n",
        "# con.close()\n",
        "\n",
        "# # Print or process the result\n",
        "# for row in result:\n",
        "#     print(f\"State: {row[0]}, Intersections: {row[1]}\")\n"
      ],
      "metadata": {
        "id": "Q_CbSfAUuH1Y"
      },
      "execution_count": null,
      "outputs": []
    },
    {
      "cell_type": "markdown",
      "source": [],
      "metadata": {
        "id": "No_aXNckucXZ"
      }
    }
  ]
}